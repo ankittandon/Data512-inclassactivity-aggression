{
 "cells": [
  {
   "cell_type": "markdown",
   "metadata": {},
   "source": [
    "# Assignment 1: Data Curation\n",
    "Ankit Tandon"
   ]
  },
  {
   "cell_type": "code",
   "execution_count": 1,
   "metadata": {},
   "outputs": [],
   "source": [
    "import json\n",
    "import requests"
   ]
  },
  {
   "cell_type": "code",
   "execution_count": 2,
   "metadata": {},
   "outputs": [],
   "source": [
    "endpoint_legacy = 'https://wikimedia.org/api/rest_v1/metrics/legacy/pagecounts/aggregate/{project}/{access-site}/{granularity}/{start}/{end}'\n",
    "\n",
    "endpoint_pageviews = 'https://wikimedia.org/api/rest_v1/metrics/pageviews/aggregate/{project}/{access}/{agent}/{granularity}/{start}/{end}'"
   ]
  },
  {
   "cell_type": "code",
   "execution_count": 3,
   "metadata": {},
   "outputs": [],
   "source": [
    "# parameters for getting aggregated legacy view data \n",
    "# see: https://wikimedia.org/api/rest_v1/#!/Legacy_data/get_metrics_legacy_pagecounts_aggregate_project_access_site_granularity_start_end\n",
    "params_legacy_desktop_site = {\"project\" : \"en.wikipedia.org\",\n",
    "                 \"access-site\" : \"desktop-site\",\n",
    "                 \"granularity\" : \"monthly\",\n",
    "                 \"start\" : \"2007120100\", \n",
    "                # for end use 1st day of month following final month of data\n",
    "                 \"end\" : \"2016080100\"\n",
    "                    }\n",
    "params_legacy_mobile = {\"project\" : \"en.wikipedia.org\",\n",
    "                 \"access-site\" : \"mobile-site\",\n",
    "                 \"granularity\" : \"monthly\",\n",
    "                 \"start\" : \"2007120100\", \n",
    "                # for end use 1st day of month following final month of data\n",
    "                 \"end\" : \"2016080100\"\n",
    "                    }\n",
    "\n",
    "# parameters for getting aggregated current standard pageview data\n",
    "# see: https://wikimedia.org/api/rest_v1/#!/Pageviews_data/get_metrics_pageviews_aggregate_project_access_agent_granularity_start_end\n",
    "params_pageviews_desktop = {\"project\" : \"en.wikipedia.org\",\n",
    "                    \"access\" : \"desktop\",\n",
    "                    \"agent\" : \"user\",\n",
    "                    \"granularity\" : \"monthly\",\n",
    "                    \"start\" : \"2015070100\",\n",
    "                    # for end use 1st day of month following final month of data\n",
    "                    \"end\" : '2018100100'\n",
    "                        }\n",
    "params_pageviews_mobile_web = {\"project\" : \"en.wikipedia.org\",\n",
    "                    \"access\" : \"mobile-web\",\n",
    "                    \"agent\" : \"user\",\n",
    "                    \"granularity\" : \"monthly\",\n",
    "                    \"start\" : \"2015070100\",\n",
    "                    # for end use 1st day of month following final month of data\n",
    "                    \"end\" : '2018100100'\n",
    "                        }\n",
    "params_pageviews_mobile_app = {\"project\" : \"en.wikipedia.org\",\n",
    "                    \"access\" : \"mobile-app\",\n",
    "                    \"agent\" : \"user\",\n",
    "                    \"granularity\" : \"monthly\",\n",
    "                    \"start\" : \"2015070100\",\n",
    "                    # for end use 1st day of month following final month of data\n",
    "                    \"end\" : '2018100100'\n",
    "                        }\n",
    "# Customize these with your own information\n",
    "headers = {\n",
    "    'User-Agent': 'https://github.com/ankittandon',\n",
    "    'From': 'antand@uw.edu'\n",
    "}"
   ]
  },
  {
   "cell_type": "code",
   "execution_count": 4,
   "metadata": {},
   "outputs": [],
   "source": [
    "def api_call(endpoint,parameters):\n",
    "    call = requests.get(endpoint.format(**parameters), headers=headers)\n",
    "    response = call.json()\n",
    "    \n",
    "    return response"
   ]
  },
  {
   "cell_type": "code",
   "execution_count": 5,
   "metadata": {},
   "outputs": [],
   "source": [
    "monthly_pageviews_desktop = api_call(endpoint_pageviews, params_pageviews_desktop)"
   ]
  },
  {
   "cell_type": "code",
   "execution_count": 6,
   "metadata": {},
   "outputs": [],
   "source": [
    "monthly_pageviews_mobile_web = api_call(endpoint_pageviews, params_pageviews_mobile_web)"
   ]
  },
  {
   "cell_type": "code",
   "execution_count": 7,
   "metadata": {},
   "outputs": [],
   "source": [
    "monthly_pageviews_mobile_app = api_call(endpoint_pageviews, params_pageviews_mobile_app)"
   ]
  },
  {
   "cell_type": "code",
   "execution_count": 8,
   "metadata": {},
   "outputs": [],
   "source": [
    "monthly_pagecount_desktop = api_call(endpoint_legacy, params_legacy_desktop_site)"
   ]
  },
  {
   "cell_type": "code",
   "execution_count": 9,
   "metadata": {},
   "outputs": [],
   "source": [
    "monthly_pagecount_mobile = api_call(endpoint_legacy, params_legacy_mobile)"
   ]
  },
  {
   "cell_type": "code",
   "execution_count": 10,
   "metadata": {},
   "outputs": [],
   "source": [
    "with open('pageviews_desktop-site_201507-201809.json', 'w') as file:\n",
    "    json.dump(monthly_pageviews_desktop,file)"
   ]
  },
  {
   "cell_type": "code",
   "execution_count": 11,
   "metadata": {},
   "outputs": [],
   "source": [
    "with open('pageviews_mobile-web_201507-201809.json', 'w') as file:\n",
    "    json.dump(monthly_pageviews_mobile_web,file)"
   ]
  },
  {
   "cell_type": "code",
   "execution_count": 12,
   "metadata": {},
   "outputs": [],
   "source": [
    "with open('pageviews_mobile-app_201507-201809.json', 'w') as file:\n",
    "    json.dump(monthly_pagecount_mobile,file)"
   ]
  },
  {
   "cell_type": "code",
   "execution_count": 13,
   "metadata": {},
   "outputs": [],
   "source": [
    "with open('pagecount_desktop_200712-201607.json', 'w') as file:\n",
    "    json.dump(monthly_pagecount_desktop,file)"
   ]
  },
  {
   "cell_type": "code",
   "execution_count": 14,
   "metadata": {},
   "outputs": [],
   "source": [
    "with open('pagecount_mobile_200712-201607.json', 'w') as file:\n",
    "    json.dump(monthly_pagecount_mobile,file)"
   ]
  },
  {
   "cell_type": "markdown",
   "metadata": {},
   "source": [
    "# Using pandas to create a dataframe from the dictionary objects"
   ]
  },
  {
   "cell_type": "markdown",
   "metadata": {},
   "source": [
    "Every dictionary has a key called 'items' that I will need to index into."
   ]
  },
  {
   "cell_type": "code",
   "execution_count": 15,
   "metadata": {},
   "outputs": [],
   "source": [
    "import pandas as pd\n",
    "pageviews_desktop_df = pd.DataFrame.from_dict(monthly_pageviews_desktop['items'])\n",
    "pageviews_mobile_web_df = pd.DataFrame.from_dict(monthly_pageviews_mobile_web['items'])\n",
    "pageviews_mobile_app_df = pd.DataFrame.from_dict(monthly_pageviews_mobile_app['items'])\n",
    "pagecount_desktop_df = pd.DataFrame.from_dict(monthly_pagecount_desktop['items'])\n",
    "pagecount_mobile_df = pd.DataFrame.from_dict(monthly_pagecount_mobile['items'])"
   ]
  },
  {
   "cell_type": "markdown",
   "metadata": {},
   "source": [
    "In order to find the maximum time range available for all datasets, I will concatenate the timestamp field for all datasets and remove duplicates. Finally, I will convert this series to a dataframe. This dataframe will serve as the final dataframe to be output to csv at the end."
   ]
  },
  {
   "cell_type": "code",
   "execution_count": 16,
   "metadata": {},
   "outputs": [],
   "source": [
    "combined_timestamp_series = pd.concat([pageviews_desktop_df['timestamp'],pageviews_mobile_web_df['timestamp'],pageviews_mobile_app_df['timestamp'],pagecount_desktop_df['timestamp'],pagecount_mobile_df['timestamp']]).drop_duplicates()\n",
    "combined_df = combined_timestamp_series.to_frame()"
   ]
  },
  {
   "cell_type": "markdown",
   "metadata": {},
   "source": [
    "In the next block of code, i'm changing the timestamp field into year and month fields. The first 4 characters in the timestamp are the year and characters 4 to 6 are the month."
   ]
  },
  {
   "cell_type": "code",
   "execution_count": 17,
   "metadata": {},
   "outputs": [],
   "source": [
    "combined_df['year']=combined_df['timestamp'].str[0:4]\n",
    "combined_df['month']=combined_df['timestamp'].str[4:6]"
   ]
  },
  {
   "cell_type": "markdown",
   "metadata": {},
   "source": [
    "Join the combined dataframe with the pageviews_desktop dataframe on timestamp and select the views column and label it as pageview_desktop_views column. Drop all other extraneous columns from the combined dataframe"
   ]
  },
  {
   "cell_type": "code",
   "execution_count": 18,
   "metadata": {},
   "outputs": [],
   "source": [
    "combined_df = combined_df.merge(right=pageviews_desktop_df,how='left', on='timestamp')\n",
    "combined_df['pageview_desktop_views'] = combined_df['views']\n",
    "combined_df = combined_df.drop(['views','access','agent','granularity','project'],axis=1)"
   ]
  },
  {
   "cell_type": "markdown",
   "metadata": {},
   "source": [
    "Join the combined dataframe with the pageviews_mobile_app dataframe on timestamp and select the views column and label it as pageview_mobile_app_views column. Drop all other extraneous columns from the combined dataframe"
   ]
  },
  {
   "cell_type": "code",
   "execution_count": 19,
   "metadata": {},
   "outputs": [],
   "source": [
    "combined_df = combined_df.merge(right=pageviews_mobile_app_df,how='left', on='timestamp', suffixes=('combined','mobile'))\n",
    "combined_df['pageview_mobile_app_views'] = combined_df['views']\n",
    "combined_df = combined_df.drop(['access','agent','granularity', 'project','views'],axis=1)"
   ]
  },
  {
   "cell_type": "markdown",
   "metadata": {},
   "source": [
    "Join the combined dataframe with the pageviews_mobile_web dataframe on timestamp and select the views column and label it as pageview_mobile_web_views column. Drop all other extraneous columns from the combined dataframe"
   ]
  },
  {
   "cell_type": "code",
   "execution_count": 20,
   "metadata": {},
   "outputs": [],
   "source": [
    "combined_df = combined_df.merge(right=pageviews_mobile_web_df,how='left', on='timestamp', suffixes=('combined','mobile'))\n",
    "combined_df['pageview_mobile_web_views'] = combined_df['views']\n",
    "combined_df = combined_df.drop(['access','agent','granularity', 'project','views'],axis=1)"
   ]
  },
  {
   "cell_type": "markdown",
   "metadata": {},
   "source": [
    "Join the combined dataframe with the pagecount_desktop dataframe on timestamp and select the count column and label it as pagecount_desktop_views column. Drop all other extraneous columns from the combined dataframe"
   ]
  },
  {
   "cell_type": "code",
   "execution_count": 21,
   "metadata": {},
   "outputs": [],
   "source": [
    "combined_df = combined_df.merge(right=pagecount_desktop_df,how='left', on='timestamp', suffixes=('combined','desktop'))\n",
    "combined_df['pagecount_desktop_views'] = combined_df['count']\n",
    "combined_df = combined_df.drop(['access-site','granularity', 'project','count'],axis=1)"
   ]
  },
  {
   "cell_type": "markdown",
   "metadata": {},
   "source": [
    "Join the combined dataframe with the pagecount_mobile dataframe on timestamp and select the count column and label it as pagecount_mobile_views column. Drop all other extraneous columns from the combined dataframe"
   ]
  },
  {
   "cell_type": "code",
   "execution_count": 22,
   "metadata": {},
   "outputs": [],
   "source": [
    "combined_df = combined_df.merge(right=pagecount_mobile_df,how='left', on='timestamp', suffixes=('combined','desktop'))\n",
    "combined_df['pagecount_mobile_views'] = combined_df['count']\n",
    "combined_df = combined_df.drop(['access-site','granularity', 'project','count'],axis=1)"
   ]
  },
  {
   "cell_type": "markdown",
   "metadata": {},
   "source": [
    "We are going to create a new column for data with 'all' views and 'all'counts which is a combination of the mobile and web counts and views."
   ]
  },
  {
   "cell_type": "code",
   "execution_count": 23,
   "metadata": {},
   "outputs": [],
   "source": [
    "combined_df['pagecount_all_views'] = combined_df['pagecount_desktop_views'] + combined_df['pagecount_mobile_views']\n",
    "combined_df['pageview_all_views'] = combined_df['pageview_desktop_views'] + combined_df['pageview_mobile_app_views'] + combined_df['pageview_mobile_web_views']"
   ]
  },
  {
   "cell_type": "markdown",
   "metadata": {},
   "source": [
    "Finally, lets make sure mobile views is a combination of mobile app and mobile web views and let's drop the extraneous columns (mobile app and mobile web views)"
   ]
  },
  {
   "cell_type": "code",
   "execution_count": 24,
   "metadata": {},
   "outputs": [],
   "source": [
    "combined_df['pageview_mobile_views'] = combined_df['pageview_mobile_app_views'] + combined_df['pageview_mobile_web_views']\n",
    "combined_df = combined_df.drop(['pageview_mobile_app_views','pageview_mobile_web_views'],axis=1)"
   ]
  },
  {
   "cell_type": "markdown",
   "metadata": {},
   "source": [
    "Plotting the time series values for page views by medium over time. For sake of visual clariy I am hiding the x axis ticks but have indicated in the title of the plot that the data ranges from December 2007 to September 2018. The number of views is shown at the log scale for the sake of visual clariy also."
   ]
  },
  {
   "cell_type": "code",
   "execution_count": 25,
   "metadata": {},
   "outputs": [
    {
     "name": "stderr",
     "output_type": "stream",
     "text": [
      "C:\\Users\\antand\\AppData\\Local\\Continuum\\anaconda3\\lib\\site-packages\\matplotlib\\scale.py:111: RuntimeWarning: invalid value encountered in less_equal\n",
      "  out[a <= 0] = -1000\n"
     ]
    }
   ],
   "source": [
    "import matplotlib.pyplot as plt\n",
    "plt.plot('timestamp','pageview_desktop_views',data=combined_df)\n",
    "plt.plot('timestamp','pageview_mobile_views',data=combined_df)\n",
    "plt.plot('timestamp','pageview_all_views',data=combined_df)\n",
    "plt.yscale('log')\n",
    "plt.title(\"Page Views Metrics over time across medium from December 2007 to September 2018\")\n",
    "plt.xlabel(\"Timestamp\")\n",
    "plt.ylabel(\"Number of views\")\n",
    "plt.legend()\n",
    "plt.tick_params(axis='x',labelbottom=False)\n",
    "plt.savefig('graph.png')"
   ]
  },
  {
   "cell_type": "markdown",
   "metadata": {},
   "source": [
    "Finally, I will output the dataframe to csv file so others can view the data. I will not include the index in the output file and also drop the Timestamp column before writing the output."
   ]
  },
  {
   "cell_type": "code",
   "execution_count": 26,
   "metadata": {},
   "outputs": [],
   "source": [
    "combined_df = combined_df.drop(['timestamp'],axis=1)\n",
    "combined_df.to_csv('en-wikipedia_traffic_200712-201809.csv',index=False)"
   ]
  }
 ],
 "metadata": {
  "kernelspec": {
   "display_name": "Python 3",
   "language": "python",
   "name": "python3"
  },
  "language_info": {
   "codemirror_mode": {
    "name": "ipython",
    "version": 3
   },
   "file_extension": ".py",
   "mimetype": "text/x-python",
   "name": "python",
   "nbconvert_exporter": "python",
   "pygments_lexer": "ipython3",
   "version": "3.6.4"
  }
 },
 "nbformat": 4,
 "nbformat_minor": 2
}
